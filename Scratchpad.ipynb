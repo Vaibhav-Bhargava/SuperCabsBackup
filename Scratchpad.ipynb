{
 "cells": [
  {
   "cell_type": "code",
   "execution_count": 1,
   "id": "72155291",
   "metadata": {},
   "outputs": [],
   "source": [
    "import numpy as np"
   ]
  },
  {
   "cell_type": "code",
   "execution_count": 2,
   "id": "23ee2c03",
   "metadata": {},
   "outputs": [],
   "source": [
    "lst = [1,2,3,4,np.nan,np.nan,np.nan,np.nan,np.nan]"
   ]
  },
  {
   "cell_type": "code",
   "execution_count": 3,
   "id": "9dd2a67a",
   "metadata": {},
   "outputs": [
    {
     "data": {
      "text/plain": [
       "True"
      ]
     },
     "execution_count": 3,
     "metadata": {},
     "output_type": "execute_result"
    }
   ],
   "source": [
    "np.isnan(lst[0] + lst[5])"
   ]
  },
  {
   "cell_type": "code",
   "execution_count": 4,
   "id": "3c05cc48",
   "metadata": {},
   "outputs": [],
   "source": [
    "curr_state = [1,9,3,4,9,np.nan,np.nan,np.nan,5]"
   ]
  },
  {
   "cell_type": "code",
   "execution_count": 5,
   "id": "0ef4cfa2",
   "metadata": {},
   "outputs": [],
   "source": [
    "win_pos = [[0,1,2],[3,4,5],[6,7,8],[0,3,6],[1,4,7],[2,5,8],[0,4,8],[2,4,6]]"
   ]
  },
  {
   "cell_type": "code",
   "execution_count": 6,
   "id": "01beeaa7",
   "metadata": {},
   "outputs": [
    {
     "data": {
      "text/plain": [
       "1"
      ]
     },
     "execution_count": 6,
     "metadata": {},
     "output_type": "execute_result"
    }
   ],
   "source": [
    "iswin = [i for i,j in enumerate(win_pos) if(curr_state[j[0]] + curr_state[j[1]] + curr_state[j[2]])==15]\n",
    "len(iswin)"
   ]
  },
  {
   "cell_type": "code",
   "execution_count": 7,
   "id": "54bc427c",
   "metadata": {},
   "outputs": [
    {
     "name": "stdout",
     "output_type": "stream",
     "text": [
      "13\n",
      "nan\n",
      "nan\n",
      "nan\n",
      "nan\n",
      "nan\n",
      "15\n",
      "nan\n"
     ]
    }
   ],
   "source": [
    "for j in win_pos:\n",
    "    print((curr_state[j[0]] + curr_state[j[1]] + curr_state[j[2]]))"
   ]
  },
  {
   "cell_type": "code",
   "execution_count": 8,
   "id": "d58ba109",
   "metadata": {},
   "outputs": [
    {
     "data": {
      "text/plain": [
       "(3, 6)"
      ]
     },
     "execution_count": 8,
     "metadata": {},
     "output_type": "execute_result"
    }
   ],
   "source": [
    "from itertools import product\n",
    "import random\n",
    "a1 = [1,2,3,4]\n",
    "a2 = [5,6,7,8]\n",
    "a3 = product(a1,a2)\n",
    "a4 = [i for i in a3]\n",
    "random.choice(a4)"
   ]
  },
  {
   "cell_type": "code",
   "execution_count": 9,
   "id": "34c29217",
   "metadata": {},
   "outputs": [],
   "source": [
    "from itertools import product\n",
    "import numpy as np"
   ]
  },
  {
   "cell_type": "code",
   "execution_count": 10,
   "id": "3115c9db",
   "metadata": {},
   "outputs": [],
   "source": [
    "l1 = l2 = list(np.arange(1,6))\n"
   ]
  },
  {
   "cell_type": "code",
   "execution_count": 11,
   "id": "a79127da",
   "metadata": {},
   "outputs": [],
   "source": [
    "l3= product(l1,l2)"
   ]
  },
  {
   "cell_type": "code",
   "execution_count": 12,
   "id": "db2e1eaf",
   "metadata": {},
   "outputs": [],
   "source": [
    "l3 = [i for i in l3]"
   ]
  },
  {
   "cell_type": "code",
   "execution_count": 13,
   "id": "93ca93ee",
   "metadata": {},
   "outputs": [],
   "source": [
    "l3.append((0,0))"
   ]
  },
  {
   "cell_type": "code",
   "execution_count": 14,
   "id": "2ceac78c",
   "metadata": {},
   "outputs": [],
   "source": [
    "l3.remove((0,0))"
   ]
  },
  {
   "cell_type": "code",
   "execution_count": 15,
   "id": "d1fb5fb7",
   "metadata": {},
   "outputs": [],
   "source": [
    "for i in l3:\n",
    "    if i[0]==i[1]:\n",
    "        l3.remove(i)"
   ]
  },
  {
   "cell_type": "code",
   "execution_count": 16,
   "id": "70c1ef09",
   "metadata": {},
   "outputs": [],
   "source": [
    "l3.append((0,0))"
   ]
  },
  {
   "cell_type": "code",
   "execution_count": 17,
   "id": "1a243436",
   "metadata": {},
   "outputs": [
    {
     "data": {
      "text/plain": [
       "[(1, 2),\n",
       " (1, 3),\n",
       " (1, 4),\n",
       " (1, 5),\n",
       " (2, 1),\n",
       " (2, 3),\n",
       " (2, 4),\n",
       " (2, 5),\n",
       " (3, 1),\n",
       " (3, 2),\n",
       " (3, 4),\n",
       " (3, 5),\n",
       " (4, 1),\n",
       " (4, 2),\n",
       " (4, 3),\n",
       " (4, 5),\n",
       " (5, 1),\n",
       " (5, 2),\n",
       " (5, 3),\n",
       " (5, 4),\n",
       " (0, 0)]"
      ]
     },
     "execution_count": 17,
     "metadata": {},
     "output_type": "execute_result"
    }
   ],
   "source": [
    "l3"
   ]
  },
  {
   "cell_type": "code",
   "execution_count": 18,
   "id": "44fff587",
   "metadata": {},
   "outputs": [
    {
     "data": {
      "text/plain": [
       "[0, 0, 0, 0, 0, 0, 0, 0, 0, 0]"
      ]
     },
     "execution_count": 18,
     "metadata": {},
     "output_type": "execute_result"
    }
   ],
   "source": [
    "arr = [0] * 10\n",
    "arr"
   ]
  },
  {
   "cell_type": "code",
   "execution_count": 62,
   "id": "107059c9",
   "metadata": {},
   "outputs": [],
   "source": [
    "# Import routines\n",
    "\n",
    "import numpy as np\n",
    "import math\n",
    "import random\n",
    "from itertools import product\n",
    "\n",
    "# Defining hyperparameters\n",
    "m = 5 # number of cities, ranges from 1 ..... m\n",
    "t = 24 # number of hours, ranges from 0 .... t-1\n",
    "d = 7  # number of days, ranges from 0 ... d-1\n",
    "C = 5 # Per hour fuel and other costs\n",
    "R = 9 # per hour revenue from a passenger\n",
    "\n",
    "Time_matrix = np.load(\"TM.npy\")\n",
    "\n",
    "\n",
    "class CabDriver():\n",
    "\n",
    "    def __init__(self):\n",
    "        \"\"\"initialise your state and define your action space and state space\"\"\"\n",
    "        # Actions are supposed to be locations, from 0 to 4 plus (0,0) for idling\n",
    "        l1 = l2 = list(np.arange(0,m))\n",
    "        # get all combinations of the locations\n",
    "        l3= product(l1,l2)\n",
    "        # Convert the iterator to list\n",
    "        l3 = [list(i) for i in l3]\n",
    "        # remove the combinations for same pickup and drop locations\n",
    "        for i in l3[1:]:\n",
    "            if i[0]==i[1]:\n",
    "                l3.remove(i)\n",
    "        \n",
    "        # The action space would also have state (0,0) for not accepting any requests\n",
    "#         l3.append((0,0))\n",
    "        self.action_space = l3\n",
    "        self.state_space = [[i,j,k] for i in range(m) for j in range (t) for k in range(d)]\n",
    "        # let's start the episode with a random state\n",
    "        self.state_init = random.choice(self.state_space)\n",
    "\n",
    "        # Start the first round\n",
    "        self.reset()\n",
    "\n",
    "\n",
    "    ## Encoding state (or state-action) for NN input\n",
    "\n",
    "    def state_encod_arch1(self, state):\n",
    "        \"\"\"convert the state into a vector so that it can be fed to the NN. This method converts a given state into a vector format. Hint: The vector is of size m + t + d.\"\"\"\n",
    "        #So, we are creating a one-hot encoded vector of size 5+24+7\n",
    "        # Let's create an empty state encoded vector of size m + t + d\n",
    "        state_encod = [0] * (m + t + d)\n",
    "        # First part is the position. Set the element at position state[0] as 1\n",
    "        state_encod[state[0]]=1\n",
    "        # the time part starts after position. So there would be an offset of m\n",
    "        # Now, let's set the time vector\n",
    "        state_encod[m + state[1]] = 1\n",
    "        # the offset for day vector would be m + d\n",
    "        state_encod[m + t + state[2]] = 1\n",
    "\n",
    "        return state_encod\n",
    "\n",
    "\n",
    "    # Use this function if you are using architecture-2 \n",
    "    # def state_encod_arch2(self, state, action):\n",
    "    #     \"\"\"convert the (state-action) into a vector so that it can be fed to the NN. This method converts a given state-action pair into a vector format. Hint: The vector is of size m + t + d + m + m.\"\"\"\n",
    "\n",
    "        \n",
    "    #     return state_encod\n",
    "\n",
    "\n",
    "    ## Getting number of requests\n",
    "\n",
    "    def requests(self, state):\n",
    "        \"\"\"Determining the number of requests basis the location. \n",
    "        Use the table specified in the MDP and complete for rest of the locations\"\"\"\n",
    "        location = state[0]\n",
    "        if location == 0:\n",
    "            requests = np.random.poisson(2)\n",
    "        if location == 1:\n",
    "            requests = np.random.poisson(15)\n",
    "        if location == 2:\n",
    "            requests = np.random.poisson(4)\n",
    "        if location == 3:\n",
    "            requests = np.random.poisson(7)\n",
    "        if location == 4:\n",
    "            requests = np.random.poisson(8)\n",
    "        # Capping the number of requests at 15\n",
    "        if requests >15:\n",
    "            requests =15\n",
    "\n",
    "        possible_actions_index = random.sample(range(1, (m-1)*m+1), requests) # (0,0) is not considered as customer request\n",
    "        # But, the driver can always refuse to take any request at any location. So, we will add index of [0,0], which is 0\n",
    "        possible_actions_index = [0]+(possible_actions_index)\n",
    "        actions = [self.action_space[i] for i in possible_actions_index]\n",
    "\n",
    "        return possible_actions_index,actions\n",
    "    \n",
    "    \n",
    "    def new_time_and_day(self,time,day,time_elapsed):\n",
    "        \"\"\"\n",
    "        Checks, if the day changes after the ride gets over or the driver idles\n",
    "        Also, change the time back to 24 hr format if time goes over 23 hrs\n",
    "        \"\"\"\n",
    "        new_time = 0\n",
    "        new_day = 0\n",
    "        if (time + time_elapsed) < 24:\n",
    "            new_time = time + time_elapsed\n",
    "            new_day = day\n",
    "        else:\n",
    "            # Convert time to 24 hour format\n",
    "            new_time = (time + time_elapsed) % 24\n",
    "            # Check, how many days passed by\n",
    "            days = (time + time_elapsed)//24\n",
    "            new_day = day + days\n",
    "            # But, there are only seven days in a week. So, if new_day exceeds 6, it has to be brought back to 0-6 day format\n",
    "            new_day = new_day % 7\n",
    "        \n",
    "        return int(new_time), int(new_day)\n",
    "\n",
    "\n",
    "\n",
    "    def reward_func(self, state, action, Time_matrix):\n",
    "        \"\"\"Takes in state, action and Time-matrix and returns the reward\n",
    "        There can be three cases, which would affect the reward:\n",
    "            i) Driver is at the same location as the pickup location for next ride\n",
    "            ii) Driver has to go to the pick location from his location\n",
    "            iii) Driver doesn't take the new request and idles away for next 1 hour\n",
    "        So, the total time would be sum of idle time, transit time to pickup and the ride time\n",
    "        The reward is a function of time. 𝐶𝑓 if the battery cost per hour and 𝑅𝑘 is the revenue earned\n",
    "        As per the equation in the problem statement:\n",
    "        𝑅(𝑠 = 𝑋𝑖𝑇𝑗𝐷𝑘) = 𝑅𝑘 ∗ (𝑇𝑖𝑚𝑒(𝑝, 𝑞)) − 𝐶𝑓 ∗ (𝑇𝑖𝑚𝑒(𝑝, 𝑞) + 𝑇𝑖𝑚𝑒(𝑖, 𝑝)) 𝑎 = (𝑝, 𝑞)\n",
    "                                         - 𝐶𝑓                          𝑎 = (0,0)\n",
    "        We would start with initialising all three times to 0\n",
    "        \"\"\"\n",
    "        idle_time = 0\n",
    "        pickup_transit_time = 0\n",
    "        ride_time = 0\n",
    "        initial_location = state[0]\n",
    "        pickup_location = action[0]\n",
    "        drop_location = action[1]\n",
    "        start_time = state[1]\n",
    "        end_time = None\n",
    "        start_day = state[2]\n",
    "        end_day = None\n",
    "        \n",
    "        # Case 1: Driver is at the same location as the pickup and s/he takes a ride\n",
    "        if(initial_location==pickup_location and action!=[0,0]):\n",
    "            ride_time = Time_matrix[initial_location][drop_location][start_time][start_day]\n",
    "        # Case 2: Driver is not at the same location as pickup and s/he takes a ride\n",
    "        if(initial_location!=pickup_location and action!=[0,0]):\n",
    "            pickup_transit_time = Time_matrix[initial_location][pickup_location][start_time][start_day]\n",
    "            # Checking, in case the day changes\n",
    "            pickup_time, pickup_day = self.new_time_and_day(start_time,start_day,pickup_transit_time)\n",
    "            ride_time = Time_matrix[pickup_location][drop_location][pickup_time][pickup_day]\n",
    "        # Case 3: The driver decides not to take the ride\n",
    "        if (action==[0,0]):\n",
    "            idle_time = 1\n",
    "        \"\"\"\n",
    "        Now, let's calculate the reward\n",
    "        \"\"\"\n",
    "        # the driver is idling i.e. doesn't take any ride requests\n",
    "        if (action==[0,0]):\n",
    "            reward = -(C)\n",
    "        # Else, if the driver decides to take a ride\n",
    "        else:\n",
    "            reward = R * ride_time - C * (pickup_transit_time + ride_time)\n",
    "        \n",
    "        \n",
    "        return int(reward)\n",
    "\n",
    "\n",
    "\n",
    "\n",
    "    def next_state_func(self, state, action, Time_matrix):\n",
    "        \"\"\"Takes state and action as input and returns next state\n",
    "        There can be three cases, which would affect the next state:\n",
    "            i) Driver is at the same location as the pickup location for next ride\n",
    "            ii) Driver has to go to the pick location from his location\n",
    "            iii) Driver doesn't take the new request and idles away for next 1 hour\n",
    "        So, the total time would be sum of idle time, transit time to pickup and the ride time\n",
    "        We would start with initialising all three times to 0\n",
    "        \"\"\"\n",
    "        idle_time = 0\n",
    "        pickup_transit_time = 0\n",
    "        ride_time = 0\n",
    "        initial_location = state[0]\n",
    "        pickup_location = action[0]\n",
    "        drop_location = action[1]\n",
    "        start_time = state[1]\n",
    "        end_time = None\n",
    "        start_day = state[2]\n",
    "        end_day = None\n",
    "        \n",
    "        # Case 1: Driver is at the same location as the pickup and s/he takes a ride\n",
    "        if(initial_location==pickup_location and action!=[0,0]):\n",
    "            ride_time = Time_matrix[initial_location][drop_location][start_time][start_day]\n",
    "        # Case 2: Driver is not at the same location as pickup and s/he takes a ride\n",
    "        if(initial_location!=pickup_location and action!=[0,0]):\n",
    "            pickup_transit_time = Time_matrix[initial_location][pickup_location][start_time][start_day]\n",
    "            # Checking, in case the day changes\n",
    "            pickup_time, pickup_day = self.new_time_and_day(start_time,start_day,pickup_transit_time)\n",
    "            ride_time = Time_matrix[pickup_location][drop_location][pickup_time][pickup_day]\n",
    "        # Case 3: The driver decides not to take the ride\n",
    "        if (action==[0,0]):\n",
    "            idle_time = 1\n",
    "            # if the driver doesn't take the ride, the drop location is same as the initial location\n",
    "            drop_location = initial_location\n",
    "        \n",
    "        \"\"\" \n",
    "        The total time is the sum of idle, pickup transit and ride time\n",
    "        if the driver doesn't take a ride, idle time would be 1 hour and pickup transit and ride time would be zero\n",
    "        If the driver does decide to take a ride, idle time would be zero and other times would have values, depending on \n",
    "        pickup location\n",
    "        \"\"\"\n",
    "        total_ride_time = idle_time + pickup_transit_time + ride_time\n",
    "        \n",
    "        end_time, end_day = self.new_time_and_day(start_time, start_day, total_ride_time)\n",
    "        \n",
    "        next_state = [drop_location, end_time, end_day]\n",
    "        \n",
    "        return next_state, total_ride_time\n",
    "    \n",
    "    def take_step(self, state, action, Time_matrix):\n",
    "        next_state, total_ride_time = self.next_state_func(state, action, Time_matrix)\n",
    "        reward = self.reward_func(state, action, Time_matrix)\n",
    "        return next_state, reward, total_ride_time\n",
    "\n",
    "\n",
    "    def reset(self):\n",
    "        return self.action_space, self.state_space, self.state_init\n"
   ]
  },
  {
   "cell_type": "code",
   "execution_count": 20,
   "id": "c226427a",
   "metadata": {},
   "outputs": [],
   "source": [
    "m = 5"
   ]
  },
  {
   "cell_type": "code",
   "execution_count": 21,
   "id": "db6a8f01",
   "metadata": {},
   "outputs": [],
   "source": [
    "cd = CabDriver()"
   ]
  },
  {
   "cell_type": "code",
   "execution_count": 22,
   "id": "051e8519",
   "metadata": {},
   "outputs": [
    {
     "data": {
      "text/plain": [
       "[[0, 0],\n",
       " [0, 1],\n",
       " [0, 2],\n",
       " [0, 3],\n",
       " [0, 4],\n",
       " [1, 0],\n",
       " [1, 2],\n",
       " [1, 3],\n",
       " [1, 4],\n",
       " [2, 0],\n",
       " [2, 1],\n",
       " [2, 3],\n",
       " [2, 4],\n",
       " [3, 0],\n",
       " [3, 1],\n",
       " [3, 2],\n",
       " [3, 4],\n",
       " [4, 0],\n",
       " [4, 1],\n",
       " [4, 2],\n",
       " [4, 3]]"
      ]
     },
     "execution_count": 22,
     "metadata": {},
     "output_type": "execute_result"
    }
   ],
   "source": [
    "cd.action_space"
   ]
  },
  {
   "cell_type": "code",
   "execution_count": 23,
   "id": "79d98b9a",
   "metadata": {},
   "outputs": [
    {
     "data": {
      "text/plain": [
       "[[0, 0, 0],\n",
       " [0, 0, 1],\n",
       " [0, 0, 2],\n",
       " [0, 0, 3],\n",
       " [0, 0, 4],\n",
       " [0, 0, 5],\n",
       " [0, 0, 6],\n",
       " [0, 1, 0],\n",
       " [0, 1, 1],\n",
       " [0, 1, 2],\n",
       " [0, 1, 3],\n",
       " [0, 1, 4],\n",
       " [0, 1, 5],\n",
       " [0, 1, 6],\n",
       " [0, 2, 0],\n",
       " [0, 2, 1]]"
      ]
     },
     "execution_count": 23,
     "metadata": {},
     "output_type": "execute_result"
    }
   ],
   "source": [
    "cd.state_space[:16]"
   ]
  },
  {
   "cell_type": "code",
   "execution_count": 24,
   "id": "c83e1a5b",
   "metadata": {},
   "outputs": [
    {
     "name": "stdout",
     "output_type": "stream",
     "text": [
      "[0, 20, 3, 4, 14, 2, 17, 12, 8]\n",
      "[[0, 0], [4, 3], [0, 3], [0, 4], [3, 1], [0, 2], [4, 0], [2, 4], [1, 4]]\n",
      "[0, 0]\n",
      "1\n",
      "[4, 3]\n"
     ]
    }
   ],
   "source": [
    "actions_index, actions = cd.requests([3])\n",
    "print(actions_index)\n",
    "print(actions)\n",
    "print(random.choice(actions))\n",
    "print(np.argmax(actions_index))\n",
    "print(actions[np.argmax(actions_index)])"
   ]
  },
  {
   "cell_type": "code",
   "execution_count": 25,
   "id": "c3a1a614",
   "metadata": {},
   "outputs": [
    {
     "data": {
      "text/plain": [
       "(5, 5, 24, 7)"
      ]
     },
     "execution_count": 25,
     "metadata": {},
     "output_type": "execute_result"
    }
   ],
   "source": [
    "Time_matrix = np.load(\"TM.npy\")\n",
    "Time_matrix.shape"
   ]
  },
  {
   "cell_type": "code",
   "execution_count": 26,
   "id": "adabc1cc",
   "metadata": {},
   "outputs": [
    {
     "data": {
      "text/plain": [
       "3.0"
      ]
     },
     "execution_count": 26,
     "metadata": {},
     "output_type": "execute_result"
    }
   ],
   "source": [
    "Time_matrix[3][4][5][4]"
   ]
  },
  {
   "cell_type": "code",
   "execution_count": 27,
   "id": "0a3caeb4",
   "metadata": {},
   "outputs": [
    {
     "data": {
      "text/plain": [
       "array([4., 1., 4., 2., 3., 1., 2.])"
      ]
     },
     "execution_count": 27,
     "metadata": {},
     "output_type": "execute_result"
    }
   ],
   "source": [
    "Time_matrix[4,1 ,2 , ]"
   ]
  },
  {
   "cell_type": "code",
   "execution_count": 46,
   "id": "5993680f",
   "metadata": {},
   "outputs": [
    {
     "name": "stdout",
     "output_type": "stream",
     "text": [
      "Next state:  [4, 16, 0]\n",
      "reward:  -5\n",
      "total_ride_time 1.0\n"
     ]
    }
   ],
   "source": [
    "next_state, reward, total_ride_time=cd.take_step([2, 15, 0],[1, 4],Time_matrix)\n",
    "print(\"Next state: \",next_state)\n",
    "print(\"reward: \",reward)\n",
    "print(\"total_ride_time\", total_ride_time)"
   ]
  },
  {
   "cell_type": "code",
   "execution_count": 29,
   "id": "2206fd54",
   "metadata": {},
   "outputs": [
    {
     "data": {
      "text/plain": [
       "12"
      ]
     },
     "execution_count": 29,
     "metadata": {},
     "output_type": "execute_result"
    }
   ],
   "source": [
    "reward = cd.reward_func([4,23,6],[4,3],Time_matrix)\n",
    "reward"
   ]
  },
  {
   "cell_type": "code",
   "execution_count": 30,
   "id": "00931ba1",
   "metadata": {},
   "outputs": [
    {
     "data": {
      "text/plain": [
       "([4, 0, 4], 1)"
      ]
     },
     "execution_count": 30,
     "metadata": {},
     "output_type": "execute_result"
    }
   ],
   "source": [
    "idleState=cd.next_state_func([4,23,3],[0,0],Time_matrix)\n",
    "idleState"
   ]
  },
  {
   "cell_type": "code",
   "execution_count": 31,
   "id": "1ebb27ce",
   "metadata": {},
   "outputs": [
    {
     "data": {
      "text/plain": [
       "-5"
      ]
     },
     "execution_count": 31,
     "metadata": {},
     "output_type": "execute_result"
    }
   ],
   "source": [
    "idleStateReward = cd.reward_func([4,23,3],[0,0],Time_matrix)\n",
    "idleStateReward"
   ]
  },
  {
   "cell_type": "code",
   "execution_count": 32,
   "id": "34485b22",
   "metadata": {},
   "outputs": [
    {
     "data": {
      "text/plain": [
       "0.8673836036275235"
      ]
     },
     "execution_count": 32,
     "metadata": {},
     "output_type": "execute_result"
    }
   ],
   "source": [
    "np.random.random()"
   ]
  },
  {
   "cell_type": "code",
   "execution_count": 33,
   "id": "f1174794-6085-467b-85cb-30f3bd3c5273",
   "metadata": {},
   "outputs": [
    {
     "data": {
      "text/plain": [
       "[0, 0, 0, 0, 1]"
      ]
     },
     "execution_count": 33,
     "metadata": {},
     "output_type": "execute_result"
    }
   ],
   "source": [
    "stateEnc = cd.state_encod_arch1([4,23,6])\n",
    "stateEnc[:5]"
   ]
  },
  {
   "cell_type": "code",
   "execution_count": 34,
   "id": "b8a18547-2631-4813-ba5c-bbca27cc99aa",
   "metadata": {},
   "outputs": [
    {
     "data": {
      "text/plain": [
       "36"
      ]
     },
     "execution_count": 34,
     "metadata": {},
     "output_type": "execute_result"
    }
   ],
   "source": [
    "len(stateEnc)"
   ]
  },
  {
   "cell_type": "code",
   "execution_count": 35,
   "id": "594a199e-9d99-401b-a529-a02b119011de",
   "metadata": {},
   "outputs": [],
   "source": [
    "stateEndArr = np.array(stateEnc).reshape(1,36)"
   ]
  },
  {
   "cell_type": "code",
   "execution_count": 36,
   "id": "afa6f318-1eee-4d7b-9bfc-d491f11d4018",
   "metadata": {},
   "outputs": [
    {
     "data": {
      "text/plain": [
       "(1, 36)"
      ]
     },
     "execution_count": 36,
     "metadata": {},
     "output_type": "execute_result"
    }
   ],
   "source": [
    "stateEndArr.shape"
   ]
  },
  {
   "cell_type": "code",
   "execution_count": 37,
   "id": "a4ccc96a-1d5c-48ab-81b8-55521f185cd5",
   "metadata": {},
   "outputs": [
    {
     "data": {
      "text/plain": [
       "array([[0, 0, 0, 0, 1, 0, 0, 0, 0, 0, 0, 0, 0, 0, 0, 0, 0, 0, 0, 0, 0, 0,\n",
       "        0, 0, 0, 0, 0, 0, 1, 0, 0, 0, 0, 0, 0, 1]])"
      ]
     },
     "execution_count": 37,
     "metadata": {},
     "output_type": "execute_result"
    }
   ],
   "source": [
    "stateEndArr"
   ]
  },
  {
   "cell_type": "code",
   "execution_count": 38,
   "id": "de9a7b1e-e618-437b-af88-c2e0344d3468",
   "metadata": {},
   "outputs": [],
   "source": [
    "ar = [[[1,2,3],4,[5,6],[7,8,9,10]],[[3,2,1],8,[6,5],[10,9,8,7]]]\n",
    "a,b,c,d = [[1,2,3],4,[5,6],[7,8,9,10]]"
   ]
  },
  {
   "cell_type": "code",
   "execution_count": 39,
   "id": "a98445d9-d112-45fb-9312-cfaaab2c1a33",
   "metadata": {},
   "outputs": [
    {
     "data": {
      "text/plain": [
       "21"
      ]
     },
     "execution_count": 39,
     "metadata": {},
     "output_type": "execute_result"
    }
   ],
   "source": [
    "len(cd.action_space)"
   ]
  },
  {
   "cell_type": "code",
   "execution_count": 40,
   "id": "e1db7ebd-3ebd-4aa8-a468-978271bd50a1",
   "metadata": {},
   "outputs": [
    {
     "data": {
      "text/plain": [
       "[[0, 0],\n",
       " [0, 1],\n",
       " [0, 2],\n",
       " [0, 3],\n",
       " [0, 4],\n",
       " [1, 0],\n",
       " [1, 2],\n",
       " [1, 3],\n",
       " [1, 4],\n",
       " [2, 0],\n",
       " [2, 1],\n",
       " [2, 3],\n",
       " [2, 4],\n",
       " [3, 0],\n",
       " [3, 1],\n",
       " [3, 2],\n",
       " [3, 4],\n",
       " [4, 0],\n",
       " [4, 1],\n",
       " [4, 2],\n",
       " [4, 3]]"
      ]
     },
     "execution_count": 40,
     "metadata": {},
     "output_type": "execute_result"
    }
   ],
   "source": [
    "cd.action_space"
   ]
  },
  {
   "cell_type": "code",
   "execution_count": 41,
   "id": "571765a5-c775-4fb3-ad40-cf4ca1249e72",
   "metadata": {},
   "outputs": [
    {
     "data": {
      "text/plain": [
       "0"
      ]
     },
     "execution_count": 41,
     "metadata": {},
     "output_type": "execute_result"
    }
   ],
   "source": [
    "cd.action_space.index([0,0])"
   ]
  },
  {
   "cell_type": "code",
   "execution_count": 47,
   "id": "97398ba7-ae74-4fc9-a990-4bd54b567828",
   "metadata": {},
   "outputs": [],
   "source": [
    "def state_to_string(state):\n",
    "    return (\"-\").join(str(e) for e in state)"
   ]
  },
  {
   "cell_type": "code",
   "execution_count": 49,
   "id": "710b5fb4-9cec-4acd-be6d-6d97dbedcecb",
   "metadata": {},
   "outputs": [
    {
     "data": {
      "text/plain": [
       "'1-2-3'"
      ]
     },
     "execution_count": 49,
     "metadata": {},
     "output_type": "execute_result"
    }
   ],
   "source": [
    "state_to_string([1,2,3])"
   ]
  },
  {
   "cell_type": "code",
   "execution_count": 52,
   "id": "74c297ab-9274-408d-b678-147dbbefb176",
   "metadata": {},
   "outputs": [],
   "source": [
    "import collections"
   ]
  },
  {
   "cell_type": "code",
   "execution_count": 53,
   "id": "b42f830d-48de-4da6-bf6e-c1a7320caa32",
   "metadata": {},
   "outputs": [],
   "source": [
    "States_track = collections.defaultdict(dict)"
   ]
  },
  {
   "cell_type": "code",
   "execution_count": 50,
   "id": "c72791fd-04cf-44b3-b8f6-5fbbc80e57ba",
   "metadata": {},
   "outputs": [],
   "source": [
    "def initialise_tracking_states():\n",
    "  # define the states and actions which will be tracked\n",
    "    tracked_state_actions = [\"State [4,23,6] Action[4,3]\",\"State [0, 15, 0] Action[1, 0]\",\"State [2, 15, 0] Action[2, 4]\",\"State [2, 15, 0] Action[1, 4]\"]\n",
    "    # Initialize the states with empty list of Q values\n",
    "    for val in tracked_state_actions:\n",
    "        States_track[val]=[] "
   ]
  },
  {
   "cell_type": "code",
   "execution_count": 54,
   "id": "c49100cd-f4e6-458b-8db0-4291ef913100",
   "metadata": {},
   "outputs": [],
   "source": [
    "initialise_tracking_states()"
   ]
  },
  {
   "cell_type": "code",
   "execution_count": 55,
   "id": "53c0905a-fe59-4aed-8109-9d7c6cd88dc6",
   "metadata": {},
   "outputs": [
    {
     "data": {
      "text/plain": [
       "defaultdict(dict,\n",
       "            {'State [4,23,6] Action[4,3]': [],\n",
       "             'State [0, 15, 0] Action[1, 0]': [],\n",
       "             'State [2, 15, 0] Action[2, 4]': [],\n",
       "             'State [2, 15, 0] Action[1, 4]': []})"
      ]
     },
     "execution_count": 55,
     "metadata": {},
     "output_type": "execute_result"
    }
   ],
   "source": [
    "States_track"
   ]
  },
  {
   "cell_type": "code",
   "execution_count": 58,
   "id": "f1f2c37d-dd35-4e56-87db-a4191810469a",
   "metadata": {},
   "outputs": [],
   "source": [
    "States_track['State [4,23,6] Action[4,3]'].append(3.5)"
   ]
  },
  {
   "cell_type": "code",
   "execution_count": 59,
   "id": "39bc4c26-2413-4332-bbcb-e1dc96f60be9",
   "metadata": {},
   "outputs": [
    {
     "data": {
      "text/plain": [
       "defaultdict(dict,\n",
       "            {'State [4,23,6] Action[4,3]': [3.5, 3.5],\n",
       "             'State [0, 15, 0] Action[1, 0]': [],\n",
       "             'State [2, 15, 0] Action[2, 4]': [],\n",
       "             'State [2, 15, 0] Action[1, 4]': []})"
      ]
     },
     "execution_count": 59,
     "metadata": {},
     "output_type": "execute_result"
    }
   ],
   "source": [
    "States_track"
   ]
  },
  {
   "cell_type": "code",
   "execution_count": 63,
   "id": "a33b078e-1a2c-4d80-9e59-c194456d5381",
   "metadata": {},
   "outputs": [
    {
     "data": {
      "text/plain": [
       "[0,\n",
       " 0,\n",
       " 0,\n",
       " 0,\n",
       " 1,\n",
       " 0,\n",
       " 0,\n",
       " 0,\n",
       " 0,\n",
       " 0,\n",
       " 0,\n",
       " 0,\n",
       " 0,\n",
       " 0,\n",
       " 0,\n",
       " 0,\n",
       " 0,\n",
       " 0,\n",
       " 0,\n",
       " 0,\n",
       " 0,\n",
       " 0,\n",
       " 0,\n",
       " 0,\n",
       " 0,\n",
       " 0,\n",
       " 0,\n",
       " 0,\n",
       " 1,\n",
       " 0,\n",
       " 0,\n",
       " 0,\n",
       " 0,\n",
       " 0,\n",
       " 0,\n",
       " 1]"
      ]
     },
     "execution_count": 63,
     "metadata": {},
     "output_type": "execute_result"
    }
   ],
   "source": [
    "cd.state_encod_arch1([4,23,6])"
   ]
  },
  {
   "cell_type": "code",
   "execution_count": 67,
   "id": "cb82d836-b004-499d-a345-8ad4ae13f457",
   "metadata": {},
   "outputs": [
    {
     "data": {
      "text/plain": [
       "8"
      ]
     },
     "execution_count": 67,
     "metadata": {},
     "output_type": "execute_result"
    }
   ],
   "source": [
    "cd.action_space.index([1,4])"
   ]
  },
  {
   "cell_type": "code",
   "execution_count": null,
   "id": "13c8c01e-a23c-4108-b7b1-1caf0336bbf0",
   "metadata": {},
   "outputs": [],
   "source": []
  }
 ],
 "metadata": {
  "kernelspec": {
   "display_name": "Python 3",
   "language": "python",
   "name": "python3"
  },
  "language_info": {
   "codemirror_mode": {
    "name": "ipython",
    "version": 3
   },
   "file_extension": ".py",
   "mimetype": "text/x-python",
   "name": "python",
   "nbconvert_exporter": "python",
   "pygments_lexer": "ipython3",
   "version": "3.8.0"
  }
 },
 "nbformat": 4,
 "nbformat_minor": 5
}
